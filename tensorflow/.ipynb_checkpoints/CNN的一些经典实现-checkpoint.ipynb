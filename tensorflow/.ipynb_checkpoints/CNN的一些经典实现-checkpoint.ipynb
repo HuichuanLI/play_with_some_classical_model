{
 "cells": [
  {
   "cell_type": "code",
   "execution_count": null,
   "id": "b5187d19",
   "metadata": {},
   "outputs": [],
   "source": [
    "import tensorflow as tf\n",
    "\n",
    "class CNNNet(tf.keras.Model):\n",
    "    def __init__(self):\n",
    "        super(CNNNet, self).__init__()\n",
    "        self.conv1 = tf.keras.layers.Conv2D(filters=16, kernel_size=5, strides=1, activation='relu')\n",
    "        self.pool1 = tf.keras.layers.MaxPool2D(pool_size=2, strides=2)\n",
    "        self.conv2 = tf.keras.layers.Conv2D(filters=36, kernel_size=3, strides=1, activation='relu')\n",
    "        self.pool2 = tf.keras.layers.MaxPool2D(pool_size=2, strides=2)\n",
    "        self.flatten = tf.keras.layers.Flatten()\n",
    "        self.fc1 = tf.keras.layers.Dense(128, activation='relu')\n",
    "        self.fc2 = tf.keras.layers.Dense(10)\n",
    "\n",
    "    def call(self, x):\n",
    "        x = self.pool1(self.conv1(x))\n",
    "        x = self.pool2(self.conv2(x))\n",
    "        x = self.flatten(x)\n",
    "        x = self.fc1(x)\n",
    "        x = tf.nn.relu(x)\n",
    "        x = self.fc2(x)\n",
    "        return x"
   ]
  }
 ],
 "metadata": {
  "kernelspec": {
   "display_name": "Python 3 (ipykernel)",
   "language": "python",
   "name": "python3"
  },
  "language_info": {
   "codemirror_mode": {
    "name": "ipython",
    "version": 3
   },
   "file_extension": ".py",
   "mimetype": "text/x-python",
   "name": "python",
   "nbconvert_exporter": "python",
   "pygments_lexer": "ipython3",
   "version": "3.10.9"
  }
 },
 "nbformat": 4,
 "nbformat_minor": 5
}
