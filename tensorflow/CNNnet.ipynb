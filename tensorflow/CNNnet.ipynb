{
 "cells": [
  {
   "cell_type": "code",
   "execution_count": 1,
   "id": "6ca05390",
   "metadata": {},
   "outputs": [
    {
     "name": "stdout",
     "output_type": "stream",
     "text": [
      "Metal device set to: Apple M2 Pro\n"
     ]
    },
    {
     "name": "stderr",
     "output_type": "stream",
     "text": [
      "2023-11-26 23:47:20.968186: I tensorflow/core/common_runtime/pluggable_device/pluggable_device_factory.cc:306] Could not identify NUMA node of platform GPU ID 0, defaulting to 0. Your kernel may not have been built with NUMA support.\n",
      "2023-11-26 23:47:20.968298: I tensorflow/core/common_runtime/pluggable_device/pluggable_device_factory.cc:272] Created TensorFlow device (/job:localhost/replica:0/task:0/device:GPU:0 with 0 MB memory) -> physical PluggableDevice (device: 0, name: METAL, pci bus id: <undefined>)\n"
     ]
    }
   ],
   "source": [
    "import tensorflow as tf\n",
    "\n",
    "class CNNNet(tf.keras.Model):\n",
    "    def __init__(self):\n",
    "        super(CNNNet, self).__init__()\n",
    "        self.conv1 = tf.keras.layers.Conv2D(filters=16, kernel_size=5, strides=1)\n",
    "        self.pool1 = tf.keras.layers.MaxPooling2D(pool_size=2, strides=2)\n",
    "        self.conv2 = tf.keras.layers.Conv2D(filters=36, kernel_size=3, strides=1)\n",
    "        self.pool2 = tf.keras.layers.MaxPooling2D(pool_size=2, strides=2)\n",
    "        self.flatten = tf.keras.layers.Flatten()\n",
    "        self.fc1 = tf.keras.layers.Dense(units=128)\n",
    "        self.fc2 = tf.keras.layers.Dense(units=10)\n",
    "\n",
    "    def call(self, x):\n",
    "        x = self.pool1(tf.nn.relu(self.conv1(x)))\n",
    "        x = self.pool2(tf.nn.relu(self.conv2(x)))\n",
    "        x = self.flatten(x)\n",
    "        x = tf.nn.relu(self.fc1(x))\n",
    "        x = self.fc2(x)\n",
    "        return x\n",
    "\n",
    "net = CNNNet()"
   ]
  },
  {
   "cell_type": "code",
   "execution_count": 4,
   "id": "ba139d8d",
   "metadata": {},
   "outputs": [],
   "source": [
    "import tensorflow as tf\n",
    "import numpy as np\n",
    "\n",
    "def cust_conv2d(X, K):\n",
    "    \"\"\"实现卷积运算\"\"\"\n",
    "    # 获取卷积核形状\n",
    "    h, w = K.shape\n",
    "    # 初始化输出值Y\n",
    "    Y = np.zeros((X.shape[0] - h + 1, X.shape[1] - w + 1))\n",
    "    # 实现卷积运算\n",
    "    for i in range(Y.shape[0]):\n",
    "        for j in range(Y.shape[1]):\n",
    "            Y[i, j] = np.sum(X[i:i + h, j:j + w] * K)\n",
    "    return tf.convert_to_tensor(Y, dtype=tf.float32)"
   ]
  },
  {
   "cell_type": "code",
   "execution_count": 5,
   "id": "11629fc8",
   "metadata": {},
   "outputs": [
    {
     "name": "stdout",
     "output_type": "stream",
     "text": [
      "tf.Tensor(\n",
      "[[4. 3. 4.]\n",
      " [2. 4. 3.]\n",
      " [2. 3. 4.]], shape=(3, 3), dtype=float32)\n"
     ]
    }
   ],
   "source": [
    "X = tf.constant([[1.0,1.0,1.0,0.0,0.0], [0.0,1.0,1.0,1.0,0.0],\n",
    "                  [0.0,0.0,1.0,1.0,1.0],[0.0,0.0,1.0,1.0,0.0],[0.0,1.0,1.0,0.0,0.0]])\n",
    "K = tf.constant([[1.0, 0.0,1.0], [0.0, 1.0,0.0],[1.0, 0.0,1.0]])\n",
    "result = cust_conv2d(X, K)\n",
    "print(result)"
   ]
  },
  {
   "cell_type": "code",
   "execution_count": 6,
   "id": "721d5bb0",
   "metadata": {},
   "outputs": [],
   "source": [
    "X = tf.constant([[10.,10.,10.,0.0,0.0,0.0], [10.,10.,10.,0.0,0.0,0.0], [10.,10.,10.,0.0,0.0,0.0],\n",
    "                  [10.,10.,10.,0.0,0.0,0.0],[10.,10.,10.,0.0,0.0,0.0],[10.,10.,10.,0.0,0.0,0.0]])\n",
    "Y = tf.constant([[0.0, 30.0,30.0,0.0], [0.0, 30.0,30.0,0.0],[0.0, 30.0,30.0,0.0],[0.0, 30.0,30.0,0.0]])"
   ]
  },
  {
   "cell_type": "code",
   "execution_count": 7,
   "id": "7695f3d1",
   "metadata": {},
   "outputs": [
    {
     "name": "stdout",
     "output_type": "stream",
     "text": [
      "epoch 100, loss 0.0005\n",
      "epoch 200, loss 0.0000\n",
      "epoch 300, loss 0.0000\n",
      "epoch 400, loss 0.0000\n"
     ]
    }
   ],
   "source": [
    "import tensorflow as tf\n",
    "\n",
    "# 构造一个二维卷积层，它具有1个输出通道和形状为（3，3）的卷积核\n",
    "conv2d = tf.keras.layers.Conv2D(1, kernel_size=(3, 3), use_bias=False)\n",
    "\n",
    "# 这个二维卷积层使用四维输入和输出格式（批量大小、高度、宽度、通道），\n",
    "# 其中批量大小和通道数都为1\n",
    "X = tf.reshape(X, (1, 6, 6, 1))\n",
    "Y = tf.reshape(Y, (1, 4, 4, 1))\n",
    "lr = 0.001  # 学习率\n",
    "\n",
    "# 定义损失函数\n",
    "loss_fn = tf.keras.losses.MeanSquaredError()\n",
    "\n",
    "for i in range(400):\n",
    "    with tf.GradientTape() as tape:\n",
    "        Y_pre = conv2d(X, training=True)\n",
    "        loss = loss_fn(Y, Y_pre)\n",
    "    \n",
    "    gradients = tape.gradient(loss, conv2d.trainable_variables)\n",
    "    optimizer = tf.keras.optimizers.SGD(learning_rate=lr)\n",
    "    optimizer.apply_gradients(zip(gradients, conv2d.trainable_variables))\n",
    "    \n",
    "    if (i + 1) % 100 == 0:\n",
    "        print(f'epoch {i+1}, loss {loss.numpy().sum():.4f}')"
   ]
  },
  {
   "cell_type": "code",
   "execution_count": 8,
   "id": "45e91255",
   "metadata": {},
   "outputs": [],
   "source": [
    "# 获取卷积层的权重列表\n",
    "weights = conv2d.get_weights()\n",
    "\n",
    "# 获取权重矩阵并调整形状\n",
    "weight_matrix = tf.reshape(weights[0], (3, 3))"
   ]
  },
  {
   "cell_type": "code",
   "execution_count": 9,
   "id": "048f939e",
   "metadata": {},
   "outputs": [
    {
     "data": {
      "text/plain": [
       "<tf.Tensor: shape=(3, 3), dtype=float32, numpy=\n",
       "array([[ 0.68979245,  0.3885317 , -0.9557028 ],\n",
       "       [ 1.3078194 , -0.316953  , -0.64847624],\n",
       "       [ 1.0023887 , -0.07157984, -1.3958199 ]], dtype=float32)>"
      ]
     },
     "execution_count": 9,
     "metadata": {},
     "output_type": "execute_result"
    }
   ],
   "source": [
    "weight_matrix"
   ]
  },
  {
   "cell_type": "code",
   "execution_count": 10,
   "id": "bdd9dbbd",
   "metadata": {},
   "outputs": [],
   "source": [
    "import tensorflow as tf\n",
    "import numpy as np\n",
    "\n",
    "def corr2d_mutil_in(X, K):\n",
    "    \"\"\"实现多输入通道的卷积运算\"\"\"\n",
    "    h, w = K.shape[1], K.shape[2]\n",
    "    # 初始化输出值\n",
    "    value = np.zeros((X.shape[0] - h + 1, X.shape[1] - w + 1))\n",
    "    # 实现多输入通道的卷积运算\n",
    "    for x, k in zip(X, K):\n",
    "        value = value + cust_conv2d(x, k)\n",
    "    return tf.convert_to_tensor(value, dtype=tf.float32)"
   ]
  },
  {
   "cell_type": "code",
   "execution_count": null,
   "id": "520c8b44",
   "metadata": {},
   "outputs": [],
   "source": []
  }
 ],
 "metadata": {
  "kernelspec": {
   "display_name": "Python 3 (ipykernel)",
   "language": "python",
   "name": "python3"
  },
  "language_info": {
   "codemirror_mode": {
    "name": "ipython",
    "version": 3
   },
   "file_extension": ".py",
   "mimetype": "text/x-python",
   "name": "python",
   "nbconvert_exporter": "python",
   "pygments_lexer": "ipython3",
   "version": "3.10.9"
  }
 },
 "nbformat": 4,
 "nbformat_minor": 5
}
